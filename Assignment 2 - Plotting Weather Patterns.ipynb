{
 "cells": [
  {
   "cell_type": "markdown",
   "metadata": {},
   "source": [
    "# Assignment 2\n",
    "\n",
    "Before working on this assignment please read these instructions fully. In the submission area, you will notice that you can click the link to **Preview the Grading** for each step of the assignment. This is the criteria that will be used for peer grading. Please familiarize yourself with the criteria before beginning the assignment.\n",
    "\n",
    "An NOAA dataset has been stored in the file `data/C2A2_data/BinnedCsvs_d400/70d553a3f7a666707fa83df275ae2272a050574299736d2087c7c5b7.csv`. The data for this assignment comes from a subset of The National Centers for Environmental Information (NCEI) [Daily Global Historical Climatology Network](https://www1.ncdc.noaa.gov/pub/data/ghcn/daily/readme.txt) (GHCN-Daily). The GHCN-Daily is comprised of daily climate records from thousands of land surface stations across the globe.\n",
    "\n",
    "Each row in the assignment datafile corresponds to a single observation.\n",
    "\n",
    "The following variables are provided to you:\n",
    "\n",
    "* **id** : station identification code\n",
    "* **date** : date in YYYY-MM-DD format (e.g. 2012-01-24 = January 24, 2012)\n",
    "* **element** : indicator of element type\n",
    "    * TMAX : Maximum temperature (tenths of degrees C)\n",
    "    * TMIN : Minimum temperature (tenths of degrees C)\n",
    "* **value** : data value for element (tenths of degrees C)\n",
    "\n",
    "For this assignment, you must:\n",
    "\n",
    "1. Read the documentation and familiarize yourself with the dataset, then write some python code which returns a line graph of the record high and record low temperatures by day of the year over the period 2005-2014. The area between the record high and record low temperatures for each day should be shaded.\n",
    "2. Overlay a scatter of the 2015 data for any points (highs and lows) for which the ten year record (2005-2014) record high or record low was broken in 2015.\n",
    "3. Watch out for leap days (i.e. February 29th), it is reasonable to remove these points from the dataset for the purpose of this visualization.\n",
    "4. Make the visual nice! Leverage principles from the first module in this course when developing your solution. Consider issues such as legends, labels, and chart junk.\n",
    "\n",
    "The data you have been given is near **Chicago, Illinois, United States**, and the stations the data comes from are shown on the map below."
   ]
  },
  {
   "cell_type": "code",
   "execution_count": null,
   "metadata": {},
   "outputs": [],
   "source": [
    "import matplotlib.pyplot as plt\n",
    "import mplleaflet\n",
    "import pandas as pd\n",
    "\n",
    "def leaflet_plot_stations(binsize, hashid):\n",
    "\n",
    "    df = pd.read_csv('data/C2A2_data/BinSize_d{}.csv'.format(binsize))\n",
    "\n",
    "    station_locations_by_hash = df[df['hash'] == hashid]\n",
    "\n",
    "    lons = station_locations_by_hash['LONGITUDE'].tolist()\n",
    "    lats = station_locations_by_hash['LATITUDE'].tolist()\n",
    "\n",
    "    plt.figure(figsize=(8,8))\n",
    "\n",
    "    plt.scatter(lons, lats, c='r', alpha=0.7, s=200)\n",
    "\n",
    "    return mplleaflet.display()\n",
    "\n",
    "leaflet_plot_stations(400,'70d553a3f7a666707fa83df275ae2272a050574299736d2087c7c5b7')"
   ]
  },
  {
   "cell_type": "code",
   "execution_count": null,
   "metadata": {},
   "outputs": [],
   "source": [
    "df = pd.read_csv('data/C2A2_data/BinnedCsvs_d400/70d553a3f7a666707fa83df275ae2272a050574299736d2087c7c5b7.csv')\n",
    "%matplotlib notebook\n",
    "import matplotlib as mpl\n",
    "import numpy as np"
   ]
  },
  {
   "cell_type": "code",
   "execution_count": null,
   "metadata": {},
   "outputs": [],
   "source": [
    "df = df[~df.Date.str.endswith('02-29')]"
   ]
  },
  {
   "cell_type": "code",
   "execution_count": null,
   "metadata": {},
   "outputs": [],
   "source": [
    "df['Data_Value'] = df['Data_Value'] * .1\n",
    "df['Year'] = df.Date.str[:4]\n",
    "df['Day'] = df.Date.str[5:]"
   ]
  },
  {
   "cell_type": "code",
   "execution_count": null,
   "metadata": {},
   "outputs": [],
   "source": [
    "maxtemp = df[(df['Element']=='TMAX') & (df['Year'] != '2015')].groupby(by='Day').aggregate({'Data_Value':np.max})\n",
    "mintemp = df[(df['Element']=='TMIN') & (df['Year'] != '2015')].groupby(by='Day').aggregate({'Data_Value':np.min})"
   ]
  },
  {
   "cell_type": "code",
   "execution_count": null,
   "metadata": {},
   "outputs": [],
   "source": [
    "maxtemp15 = df[(df['Element']=='TMAX') & (df['Year'] == '2015')].groupby(by='Day').aggregate({'Data_Value':np.max})\n",
    "mintemp15 = df[(df['Element']=='TMIN') & (df['Year'] == '2015')].groupby(by='Day').aggregate({'Data_Value':np.min})"
   ]
  },
  {
   "cell_type": "code",
   "execution_count": null,
   "metadata": {},
   "outputs": [],
   "source": [
    "max_break = np.where(maxtemp15.Data_Value > maxtemp.Data_Value)\n",
    "min_break = np.where(mintemp15.Data_Value < mintemp.Data_Value)"
   ]
  },
  {
   "cell_type": "code",
   "execution_count": null,
   "metadata": {},
   "outputs": [],
   "source": [
    "plt.figure(figsize=(12,6))\n",
    "plt.gca().axis([0, 365, -30,40])\n",
    "plt.plot(maxtemp.values, 'r', alpha=0.30)\n",
    "plt.plot(mintemp.values, 'b', alpha=0.3)\n",
    "plt.scatter(max_break, maxtemp15.iloc[max_break], s=20, c='black', label = 'Record High 2015')\n",
    "plt.scatter(min_break, mintemp15.iloc[min_break], s=20, c='black', label = 'Record Low 2015')\n",
    "plt.gca().fill_between(range(len(mintemp)),mintemp.Data_Value, maxtemp.Data_Value,facecolor='blue', alpha=0.10)\n",
    "plt.legend(['Record High 2005-2014', 'Record Low 2005-2014','Record breaking days in 2015'], frameon=False)\n",
    "plt.ylabel('Degrees Celsius')\n",
    "plt.xlabel('Day of the Year')\n",
    "plt.title('Chicago Record Temperatures')\n",
    "plt.subplots_adjust(bottom=0.10)\n",
    "plt.gca().spines['top'].set_visible(False)\n",
    "plt.gca().spines['right'].set_visible(False)\n",
    "plt.show()\n",
    "image = 'image.png'\n",
    "plt.savefig(image)\n",
    "from IPython.display import HTML\n",
    "HTML('<a href =\"{0}\" download>Click here to download {0}</a>'.format(image))"
   ]
  }
 ],
 "metadata": {
  "kernelspec": {
   "display_name": "Python 3",
   "language": "python",
   "name": "python3"
  },
  "language_info": {
   "codemirror_mode": {
    "name": "ipython",
    "version": 3
   },
   "file_extension": ".py",
   "mimetype": "text/x-python",
   "name": "python",
   "nbconvert_exporter": "python",
   "pygments_lexer": "ipython3",
   "version": "3.6.4"
  }
 },
 "nbformat": 4,
 "nbformat_minor": 1
}
